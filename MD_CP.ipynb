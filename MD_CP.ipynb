{
 "cells": [
  {
   "cell_type": "markdown",
   "id": "9e1c2f9f",
   "metadata": {},
   "source": [
    "**We will write a code to plot the stress distribution in thick and compound cylinders.**\n",
    "\n",
    "The inputs that we will be taking from the user are:\n",
    "\n",
    "1) Internal Pressure in MPa\n",
    "2) The diameters in mm\n",
    "3) Maximum permissible stress\n",
    "\n",
    "Lame's General Equations will be used."
   ]
  },
  {
   "cell_type": "markdown",
   "id": "9c52ab99",
   "metadata": {},
   "source": [
    "**Github repository link :**\n",
    "https://github.com/jeetThakkar10/MD_CP.git"
   ]
  },
  {
   "cell_type": "markdown",
   "id": "fd03641d",
   "metadata": {},
   "source": [
    "**Project Submitted by :**\n",
    "\n",
    "1) Jeet Thakkar          (2GI19ME052)\n",
    "\n",
    "2) Aniket Ankle          (2GI19ME017)\n",
    "\n",
    "3) Gourav Malavi         (2GI19ME042)\n",
    "\n",
    "4) Hrishikesh Chavan     (2GI19ME047)"
   ]
  },
  {
   "cell_type": "markdown",
   "id": "4931d08c",
   "metadata": {},
   "source": [
    "**Reference :**\n",
    "\n",
    "Design of Machine Elements by V. B. Bhandari"
   ]
  },
  {
   "cell_type": "code",
   "execution_count": 61,
   "id": "b788779e",
   "metadata": {},
   "outputs": [],
   "source": [
    "import numpy as np\n",
    "import matplotlib.pyplot as plt\n",
    "import pandas as pd"
   ]
  },
  {
   "cell_type": "markdown",
   "id": "f1c26dad",
   "metadata": {},
   "source": [
    "**Thick Cylinders**"
   ]
  },
  {
   "cell_type": "code",
   "execution_count": 62,
   "id": "3f4c5b3e",
   "metadata": {},
   "outputs": [],
   "source": [
    "def SplitIntoArray(D_in, D_out):\n",
    "    \n",
    "    '''\n",
    "    This function will generate a numpy array of Diameters\n",
    "    Between Inner Dia and Outer Dia with a step\n",
    "    size of 0.1mm\n",
    "    This is done in order to get multiple points for stress calculation\n",
    "    '''\n",
    "    \n",
    "    \n",
    "    try:\n",
    "        if D_in<0 or D_out<0 or D_in>D_out:    #This will make sure the values entered are positive and valid\n",
    "            raise ValueError(\"Invalid Entry. Please enter valid data. \")\n",
    "    except ValueError as e:\n",
    "        print(e)\n",
    "        \n",
    "    lst = np.arange(D_in, D_out, 0.5)\n",
    "    return(lst)\n",
    "        "
   ]
  },
  {
   "cell_type": "code",
   "execution_count": 63,
   "id": "693cb4c7",
   "metadata": {},
   "outputs": [],
   "source": [
    "def FindTanStress(D_in, D_out, InternalPressure):\n",
    "    \n",
    "    '''\n",
    "    This function will find the tangential\n",
    "    stress given the inner diameter,\n",
    "    outer diameter and the internal pressure\n",
    "    '''\n",
    "     \n",
    "    lst = list(SplitIntoArray(D_in, D_out))\n",
    "    TanStress = []\n",
    "    for r in lst:\n",
    "        r/=2    #Since radius = Diameter/2\n",
    "        TanStr = ((InternalPressure*D_in**2)/(D_out**2-D_in**2))*(1+(D_out**2/(4*r**2)))    #lame's equation\n",
    "        TanStress.append(TanStr)\n",
    "    return TanStress    \n",
    "        "
   ]
  },
  {
   "cell_type": "code",
   "execution_count": 64,
   "id": "2144e2b2",
   "metadata": {},
   "outputs": [],
   "source": [
    "def FindRadStress(D_in, D_out, InternalPressure):\n",
    "    '''\n",
    "    This Function will find the radial stress\n",
    "    '''\n",
    "    lst = list(SplitIntoArray(D_in, D_out))\n",
    "    RadStress = []\n",
    "    for r in lst:\n",
    "        r/=2\n",
    "        RadStr = ((InternalPressure*D_in**2)/(D_out**2-D_in**2))*(1-(D_out**2/(4*r**2)))    #Lame's equation\n",
    "        RadStress.append(RadStr)\n",
    "    return RadStress\n",
    "        "
   ]
  },
  {
   "cell_type": "code",
   "execution_count": 65,
   "id": "8c31922e",
   "metadata": {},
   "outputs": [],
   "source": [
    "def PlotGraph(D_in, D_out, InternalPressure):\n",
    "\n",
    "    radius = np.array(SplitIntoArray(D_in, D_out))\n",
    "    radius = radius/2\n",
    "    TanStress = FindTanStress(D_in, D_out, InternalPressure)\n",
    "    RadStress = FindRadStress(D_in, D_out, InternalPressure)\n",
    "\n",
    "    plt.figure(1)\n",
    "    \n",
    "    plt.subplot(211)\n",
    "    plt.title(\"Stress distribution in thick cylinders\")\n",
    "    plt.grid()\n",
    "    plt.plot(radius, TanStress)\n",
    "    plt.xlabel(\"Radius\")\n",
    "    plt.ylabel(\"Tangential Stress\")\n",
    "    \n",
    "    plt.subplot(212)\n",
    "    plt.grid()\n",
    "    plt.plot(radius, RadStress, color='green')\n",
    "    plt.xlabel(\"Radius\")\n",
    "    plt.ylabel(\"Radial Stress\")\n",
    "    plt.show()    "
   ]
  },
  {
   "cell_type": "markdown",
   "id": "397581d0",
   "metadata": {},
   "source": [
    "**Compound Cylinders**"
   ]
  },
  {
   "cell_type": "code",
   "execution_count": 66,
   "id": "490a9845",
   "metadata": {},
   "outputs": [],
   "source": [
    "def PressureShrinkFit(d1,d2,d3, MaxPStress):    \n",
    "    '''\n",
    "    This fundtion will determine the pressure\n",
    "    due to shrink fit, given the Max Permissible Stress\n",
    "    '''\n",
    "    \n",
    "    ShrinkagePressure = MaxPStress*(d3**2-d2**2)/(d3**2+d2**2)\n",
    "    return ShrinkagePressure"
   ]
  },
  {
   "cell_type": "code",
   "execution_count": 67,
   "id": "40f6a12d",
   "metadata": {},
   "outputs": [],
   "source": [
    "def StressShrinkJacketRad(P,d2,d3):\n",
    "    \n",
    "    '''\n",
    "    This function will return a numpy array \n",
    "    of Radial Sress induced in the jacket from d2 to d3\n",
    "    in incriments of 0.5. The input arguments are\n",
    "    Pressure due to shrink fit, d2, d3\n",
    "    '''\n",
    "    \n",
    "    Stress = []\n",
    "    lst=np.arange(d2/2, (d3+1)/2, 0.5)\n",
    "    for r in lst:\n",
    "        StressJacketShrinkRad = ((P*d2**2)/(d3**2-d2**2))*((d3**2/(4*r**2))-1)*(-1)\n",
    "        Stress.append(StressJacketShrinkRad)\n",
    "    return(Stress)"
   ]
  },
  {
   "cell_type": "code",
   "execution_count": 68,
   "id": "7103e316",
   "metadata": {},
   "outputs": [],
   "source": [
    "def StressShrinkJacketTan(P,d2,d3):\n",
    "    '''\n",
    "    This function will return a numpy array \n",
    "    of Tangential Sress induced in the jacket from d2 to d3\n",
    "    in incriments of 0.5. The input arguments are\n",
    "    Pressure due to shrink fit, d2, d3\n",
    "    '''\n",
    "    Stress = []\n",
    "    lst=np.arange(d2/2, (d3+1)/2, 0.5)\n",
    "    for r in lst:\n",
    "        StressJacketShrinkRad = ((P*d2**2)/(d3**2-d2**2))*((d3**2/(4*r**2))+1)\n",
    "        Stress.append(StressJacketShrinkRad)\n",
    "    return(Stress)"
   ]
  },
  {
   "cell_type": "code",
   "execution_count": 69,
   "id": "f23e07e4",
   "metadata": {},
   "outputs": [],
   "source": [
    "def StressShrinkInnerRad(P,d1,d2):\n",
    "    \n",
    "    '''\n",
    "    This function will return a numpy array of Radial stress induced \n",
    "    in the Inner cylinder due to shrink fit. \n",
    "    The input arguments are Pressure due to shrink fit, d1,d2\n",
    "    '''\n",
    "    \n",
    "    Stress = []\n",
    "    lst=np.arange(d1/2, (d2+1)/2, 0.5)\n",
    "    for r in lst:\n",
    "        StressInnerShrinkRad = (-1)*((P*d2**2)/(d2**2-d1**2))*(1-((d1**2)/(4*r**2)))\n",
    "        Stress.append(StressInnerShrinkRad)\n",
    "    return(Stress)"
   ]
  },
  {
   "cell_type": "code",
   "execution_count": 70,
   "id": "9ced9421",
   "metadata": {},
   "outputs": [],
   "source": [
    "def StressShrinkInnerTan(P,d1,d2):\n",
    "    \n",
    "    '''\n",
    "    This function will return a numpy array of Tangential stress induced \n",
    "    in the Inner cylinder due to shrink fit. \n",
    "    The input arguments are Pressure due to shrink fit, d1,d2\n",
    "    '''\n",
    "    \n",
    "    Stress = []\n",
    "    lst=np.arange(d1/2, (d2+1)/2, 0.5)\n",
    "    for r in lst:\n",
    "        StressInnerShrinkRad = (-1)*((P*d2**2)/(d2**2-d1**2))*(1+((d1**2)/(4*r**2)))\n",
    "        Stress.append(StressInnerShrinkRad)\n",
    "    return(Stress)"
   ]
  },
  {
   "cell_type": "code",
   "execution_count": 71,
   "id": "33b4a41a",
   "metadata": {},
   "outputs": [],
   "source": [
    "def RadStressInernalPressure(Pi, d1, d3):\n",
    "    '''\n",
    "    This function will return a numpy array of \n",
    "    Radial Stress Induced in the compound cylinder \n",
    "    due to shrink fit. \n",
    "    The input arguments are Internal Pressure,\n",
    "    d1, d3\n",
    "    '''\n",
    "    Stress = []\n",
    "    lst = np.arange(d1/2, (d3+1)/2, 0.5)\n",
    "    for r in lst:\n",
    "        RadStress = (-1)*((Pi*d1**2)/(d3**2-d1**2))*(((d3**2)/(4*r**2))-1)\n",
    "        Stress.append(RadStress)\n",
    "    return(Stress)\n"
   ]
  },
  {
   "cell_type": "code",
   "execution_count": 72,
   "id": "544409a8",
   "metadata": {},
   "outputs": [],
   "source": [
    "def TanStressInernalPressure(Pi, d1, d3):\n",
    "\n",
    "    '''\n",
    "    This function will return a numoy array of \n",
    "    Tangential Stress Induced in the compound cylinder \n",
    "    due to shrink fit. \n",
    "    The input arguments are Internal Pressure,\n",
    "    d1, d3\n",
    "    '''\n",
    "    \n",
    "    Stress = []\n",
    "    lst = np.arange(d1/2, (d3+1)/2, 0.5)\n",
    "    for r in lst:\n",
    "        TanStress = ((Pi*d1**2)/(d3**2-d1**2))*(((d3**2)/(4*r**2))+1)\n",
    "        Stress.append(TanStress)\n",
    "    return(Stress)\n"
   ]
  },
  {
   "cell_type": "code",
   "execution_count": 73,
   "id": "645437d8",
   "metadata": {},
   "outputs": [],
   "source": [
    "def mergeradial(P, d1,d2, d3):\n",
    "    \n",
    "    '''\n",
    "    Since we have the radial stresses of inner cylinder\n",
    "    and jacket separately, we use this function to \n",
    "    merge them together in the order starting from d1 to d3\n",
    "    '''\n",
    "    \n",
    "    StressInner = StressShrinkInnerRad(P, d1, d2)\n",
    "    StressOuter = StressShrinkJacketRad(P, d2, d3)\n",
    "    StressInner.extend(StressOuter)\n",
    "    return(StressInner)"
   ]
  },
  {
   "cell_type": "code",
   "execution_count": 74,
   "id": "6d740217",
   "metadata": {},
   "outputs": [],
   "source": [
    "def mergetangential(P, d1, d2, d3):\n",
    "    \n",
    "    '''\n",
    "    Since we have the tangential stresses of inner cylinder\n",
    "    and jacket separately, we use this function to \n",
    "    merge them together in the order starting from d1 to d3\n",
    "    '''\n",
    "        \n",
    "    StressInner = StressShrinkInnerTan(P, d1, d2)\n",
    "    StressOuter = StressShrinkJacketTan(P,d2,d3)\n",
    "    StressInner.extend(StressOuter)\n",
    "    return(StressInner)"
   ]
  },
  {
   "cell_type": "code",
   "execution_count": 75,
   "id": "532338a3",
   "metadata": {},
   "outputs": [],
   "source": [
    "def resultantRadial(P, Pi, d1, d2, d3):\n",
    "    \n",
    "    '''\n",
    "    This function will return a numpy array of \n",
    "    resultant radial stress which can be calculated by \n",
    "    superimposing stresses due to shrink fit and those due to\n",
    "    internal pressure\n",
    "    '''\n",
    "    \n",
    "    radialStress1 = mergeradial(P, d1, d2, d3)\n",
    "    radialStress2 = RadStressInernalPressure(Pi, d1, d3)\n",
    "\n",
    "    radialStress1 = np.array(radialStress1)\n",
    "    radialStress2 = np.array(radialStress2)\n",
    "    \n",
    "    if np.shape(radialStress1)!=np.shape(radialStress2):\n",
    "        if np.shape(radialStress1)>np.shape(radialStress2):\n",
    "            radialStress2 = np.append(radialStress2,np.NaN)\n",
    "        else:\n",
    "            radialStress1 = np.append(radialStress1,np.NaN)\n",
    "    \n",
    "    return(radialStress1+radialStress2)   "
   ]
  },
  {
   "cell_type": "code",
   "execution_count": 76,
   "id": "a292ff01",
   "metadata": {},
   "outputs": [],
   "source": [
    "def resultantTangential(P, Pi, d1, d2, d3):\n",
    "    \n",
    "    '''\n",
    "    This function will return a numpy array of \n",
    "    resultant rtangential stress which can be calculated by \n",
    "    superimposing stresses due to shrink fit and those due to\n",
    "    internal pressure\n",
    "    '''\n",
    "    \n",
    "    tanStress1 = mergetangential(P, d1, d2, d3)\n",
    "    tanStress2 = TanStressInernalPressure(Pi, d1, d3)\n",
    "    tanStress1 = np.array(tanStress1)\n",
    "    tanStress2 = np.array(tanStress2)\n",
    "\n",
    "    if np.shape(tanStress1)!=np.shape(tanStress2):\n",
    "        if np.shape(tanStress1)>np.shape(tanStress2):\n",
    "            tanStress2 = np.append(tanStress2,np.NaN)\n",
    "        else:\n",
    "            tanStress1 = np.append(tanStress1,np.NaN)\n",
    "    return(tanStress1 + tanStress2)\n"
   ]
  },
  {
   "cell_type": "code",
   "execution_count": 77,
   "id": "d4cd3788",
   "metadata": {},
   "outputs": [],
   "source": [
    "def plotResultant(P, Pi, d1, d2, d3):\n",
    "\n",
    "    '''\n",
    "    This function will plot the resultant stresses having radius\n",
    "    on the x-axis and Resultant stress on the y-axis\n",
    "    '''\n",
    "    \n",
    "    rad = np.arange(d1/2, (d3+1)/2, 0.5)    #Getting an array of radius (for x-axis)\n",
    "    radial = resultantRadial(P, Pi, d1, d2, d3)\n",
    "    tan = resultantTangential(P, Pi, d1, d2, d3)\n",
    "\n",
    "    if np.shape(rad)!=np.shape(radial):\n",
    "        if np.shape(rad)>np.shape(radial):\n",
    "            radial = np.append(radial,np.NaN)\n",
    "        else:\n",
    "            rad = np.append(rad,np.NaN)\n",
    "            \n",
    "    if np.shape(rad)!=np.shape(tan):\n",
    "        if np.shape(rad)>np.shape(tan):\n",
    "            tan = np.append(tan,np.NaN)\n",
    "        else:\n",
    "            rad = np.append(rad,np.NaN)\n",
    "    \n",
    "    plt.figure(1)\n",
    "    plt.title(\"Resultant Radial Stress in Compound Cylinder\")\n",
    "    plt.grid()\n",
    "    plt.plot(rad, radial)\n",
    "    plt.show\n",
    "    plt.xlabel(\"Radius (mm)\")\n",
    "    plt.ylabel(\"Resultant Radial Stress (MPa)\")\n",
    "    \n",
    "    plt.figure(2)\n",
    "    plt.title(\"Resultant Tangential Stress in Compound Cylinder\")\n",
    "    plt.grid()\n",
    "    plt.plot(rad, tan)\n",
    "    plt.xlabel(\"Radius (mm)\")\n",
    "    plt.ylabel(\"Resultant Tangential Stress (MPa)\")\n",
    "    plt.show()\n",
    "                             "
   ]
  },
  {
   "cell_type": "code",
   "execution_count": 78,
   "id": "2222a077",
   "metadata": {},
   "outputs": [
    {
     "name": "stdout",
     "output_type": "stream",
     "text": [
      "Enter the internal diameter of the thick cylinder in mm : 300\n",
      "Enter the outer diameter of the thick cylinder in mm  : 380\n",
      "Enter the Internal Pressure in the thick cylinder in MPa : 6\n"
     ]
    },
    {
     "data": {
      "image/png": "[encoded data removed]",
      "text/plain": [
       "<Figure size 432x288 with 2 Axes>"
      ]
     },
     "metadata": {
      "needs_background": "light"
     },
     "output_type": "display_data"
    },
    {
     "name": "stdout",
     "output_type": "stream",
     "text": [
      "Enter the internal diameter of the inner cylinder (mm): 20\n",
      "Enter the external diameter of inner cylinder (mm): 40\n",
      "Enter the external diameter of the outer cylinder (mm): 60\n",
      "Enter the maximum permissible stress (MPa): 100\n",
      "Enter the internal pressure (MPa): 300\n"
     ]
    },
    {
     "data": {
      "image/png": "[encoded data removed]",
      "text/plain": [
       "<Figure size 432x288 with 1 Axes>"
      ]
     },
     "metadata": {
      "needs_background": "light"
     },
     "output_type": "display_data"
    },
    {
     "data": {
      "image/png": "[encoded data removed]",
      "text/plain": [
       "<Figure size 432x288 with 1 Axes>"
      ]
     },
     "metadata": {
      "needs_background": "light"
     },
     "output_type": "display_data"
    }
   ],
   "source": [
    "# n = int(input(\"Enter 1 for Thick Cylinders or 2 for Compound Cylinder : \"))\n",
    "\n",
    "# if n==1: \n",
    "# Thick Cylinder\n",
    "innerDia = float(input(\"Enter the internal diameter of the thick cylinder in mm : \"))\n",
    "outerDia = float(input(\"Enter the outer diameter of the thick cylinder in mm  : \"))\n",
    "intPressure = float(input(\"Enter the Internal Pressure in the thick cylinder in MPa : \"))\n",
    "PlotGraph(innerDia, outerDia, intPressure) \n",
    "\n",
    "# elif n==2:\n",
    "# Compound Cylinder\n",
    "d1 = float(input(\"Enter the internal diameter of the inner cylinder (mm): \"))\n",
    "d2 = float(input(\"Enter the external diameter of inner cylinder (mm): \"))\n",
    "d3 = float(input(\"Enter the external diameter of the outer cylinder (mm): \"))\n",
    "MaxStress = float(input(\"Enter the maximum permissible stress (MPa): \"))\n",
    "Pi = float(input(\"Enter the internal pressure (MPa): \"))\n",
    "P = PressureShrinkFit(d1,d2,d3, MaxStress)\n",
    "plotResultant(P, Pi, d1, d2, d3)\n",
    "    \n",
    "# else:\n",
    "#     print(\"Invalid Input. Please enter a valid input. \")"
   ]
  },
  {
   "cell_type": "code",
   "execution_count": null,
   "id": "db76bcb8",
   "metadata": {},
   "outputs": [],
   "source": []
  }
 ],
 "metadata": {
  "kernelspec": {
   "display_name": "Python 3 (ipykernel)",
   "language": "python",
   "name": "python3"
  },
  "language_info": {
   "codemirror_mode": {
    "name": "ipython",
    "version": 3
   },
   "file_extension": ".py",
   "mimetype": "text/x-python",
   "name": "python",
   "nbconvert_exporter": "python",
   "pygments_lexer": "ipython3",
   "version": "3.9.7"
  }
 },
 "nbformat": 4,
 "nbformat_minor": 5
}
